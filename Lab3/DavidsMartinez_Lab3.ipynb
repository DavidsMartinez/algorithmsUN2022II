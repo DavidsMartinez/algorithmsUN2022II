{
  "nbformat": 4,
  "nbformat_minor": 0,
  "metadata": {
    "colab": {
      "provenance": []
    },
    "kernelspec": {
      "name": "python3",
      "display_name": "Python 3"
    },
    "language_info": {
      "name": "python"
    }
  },
  "cells": [
    {
      "cell_type": "markdown",
      "source": [
        "Como primer enlace se encuentra el link a mi perfil y subsecuente las certificaciones obtenidas.\n",
        "\n",
        "**https://www.linkedin.com/in/davidsmartínezt/**\n",
        "\n",
        "\n",
        "*   https://courses.cognitiveclass.ai/certificates/9f1a700984d04d7882ec291f8d4d8e92\n",
        "\n",
        "\n",
        "*   https://courses.cognitiveclass.ai/certificates/208abb7bf91c4119b1ffdcbdb44263cc\n",
        "\n",
        "\n",
        "\n",
        "\n"
      ],
      "metadata": {
        "id": "isT2xyiq9dyK"
      }
    },
    {
      "cell_type": "code",
      "execution_count": null,
      "metadata": {
        "id": "22VCAzZg9VML"
      },
      "outputs": [],
      "source": [
        "\n"
      ]
    }
  ]
}